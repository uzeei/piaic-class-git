{
 "cells": [
  {
   "cell_type": "code",
   "execution_count": 11,
   "metadata": {
    "scrolled": true
   },
   "outputs": [
    {
     "name": "stdout",
     "output_type": "stream",
     "text": [
      "[1 2 3 4]\n",
      "[[1 2 3 4]\n",
      " [3 4 5 6]]\n",
      "[0 1 2 3 4 5 6 7 8 9]\n",
      "['a' 'b' 'c']\n"
     ]
    }
   ],
   "source": [
    "import numpy as np\n",
    "\n",
    "#one dimensonal array\n",
    "numpy_array = np.array([1,2,3,4])\n",
    "print(numpy_array)\n",
    "\n",
    "\n",
    "#two dimensonal array\n",
    "numpy_array1 = np.array([(1,2,3,4,),(3,4,5,6)])\n",
    "print(numpy_array1)\n",
    "\n",
    "numpy_array2= np.arange(10)\n",
    "print(numpy_array2)\n",
    "\n",
    "numpy_array3 = np.array(['a','b','c'])\n",
    "print(numpy_array3)"
   ]
  },
  {
   "cell_type": "code",
   "execution_count": 40,
   "metadata": {},
   "outputs": [
    {
     "name": "stdout",
     "output_type": "stream",
     "text": [
      "\n",
      "fast\n",
      "\n",
      "200\n",
      "136\n"
     ]
    }
   ],
   "source": [
    "import numpy as np\n",
    "import time\n",
    "import sys\n",
    "\n",
    "#one dimensonal array\n",
    "numpy_array = np.array([1,2,3,4])\n",
    "#print(numpy_array)\n",
    "\n",
    "\n",
    "#two dimensonal array\n",
    "numpy_array1 = np.array([(1,2,3,4,),(3,4,5,6)])\n",
    "#print(numpy_array1[1,2])\n",
    "\n",
    "numpy_array2= np.arange(10)\n",
    "#print(numpy_array2)\n",
    "\n",
    "numpy_array3 = np.array(['a','b','c'])\n",
    "#print(numpy_array3)\n",
    "\n",
    "size = 10\n",
    "\n",
    "l1 = list(range(10))\n",
    "l2 = list(range(10))\n",
    "\n",
    "\n",
    "\n",
    "res= n1 + n2\n",
    "res1 = n1 *n2\n",
    "#print(res)\n",
    "#print(res1)\n",
    "\n",
    "n1 = np.arange(10)\n",
    "n2 = np.arange(10)\n",
    "result= []\n",
    "for i in range(0,len(l1)):\n",
    "    result.append(l1[i] + l2 [i])\n",
    "    \n",
    "#print(result)\n",
    "\n",
    "l3 = np.array([(6,7),(5,2)])\n",
    "l4 = np.array([(1,3),(4,6)])\n",
    "\n",
    "res2= l3 - l4\n",
    "#print(res2)\n",
    "\n",
    "\n",
    "print('\\nfast\\n')\n",
    "\n",
    "l1 = list(range(size))\n",
    "l2 = list(range(size))\n",
    "\n",
    "n1 = np.arange(10)\n",
    "n2 = np.arange(10)\n",
    "\n",
    "start = time.time()\n",
    "res = n1 + n2\n",
    "#print (res)\n",
    "#print((time.time()- start)*1000)\n",
    "\n",
    "\n",
    "l5= list(range(size))\n",
    "n5= np.arange(size)\n",
    "\n",
    "print(sys.getsizeof(l5))\n",
    "print(sys.getsizeof(n5))\n",
    "\n",
    "    "
   ]
  },
  {
   "cell_type": "markdown",
   "metadata": {},
   "source": []
  }
 ],
 "metadata": {
  "kernelspec": {
   "display_name": "Python 3",
   "language": "python",
   "name": "python3"
  },
  "language_info": {
   "codemirror_mode": {
    "name": "ipython",
    "version": 3
   },
   "file_extension": ".py",
   "mimetype": "text/x-python",
   "name": "python",
   "nbconvert_exporter": "python",
   "pygments_lexer": "ipython3",
   "version": "3.7.3"
  }
 },
 "nbformat": 4,
 "nbformat_minor": 2
}
