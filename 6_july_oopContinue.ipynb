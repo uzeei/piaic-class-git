{
 "cells": [
  {
   "cell_type": "code",
   "execution_count": 86,
   "metadata": {},
   "outputs": [],
   "source": [
    "class Car():\n",
    "    def __init__(self, make, model, year):\n",
    "        self.make =make\n",
    "        self.model= model\n",
    "        self.year=year\n",
    "        self.odometer_reading =0\n",
    "        \n",
    "    def get_descritive_name(self):\n",
    "        long_name = str(self.year) + ' ' + self.make + ' ' + self.model\n",
    "        return long_name.title()\n",
    "    \n",
    "    def read_odometer(self):\n",
    "        print(f'the car has travelled {self.odometer_reading} miles')\n",
    "        \n",
    "    def update_odometer(self, mileage):\n",
    "        self.odometer_reading = mileage\n",
    "    def increase_odometer(self, mileage):\n",
    "        if mileage  >0: \n",
    "            self.odometer_reading += mileage\n",
    "        else:    \n",
    "            print('you can not rol back odometer')\n",
    "            \n",
    "    def getFuelTankSize(self):\n",
    "        print('100 Liters')\n",
    "    "
   ]
  },
  {
   "cell_type": "code",
   "execution_count": 87,
   "metadata": {},
   "outputs": [],
   "source": [
    "class ElectricCar(Car):\n",
    "    def __init__(self, make, model, year):\n",
    "        super().__init__(make, model, year)"
   ]
  },
  {
   "cell_type": "code",
   "execution_count": 88,
   "metadata": {},
   "outputs": [],
   "source": [
    "eCar= ElectricCar('Toyata', 'Corola', '1990')"
   ]
  },
  {
   "cell_type": "code",
   "execution_count": 89,
   "metadata": {},
   "outputs": [
    {
     "data": {
      "text/plain": [
       "'Toyata'"
      ]
     },
     "execution_count": 89,
     "metadata": {},
     "output_type": "execute_result"
    }
   ],
   "source": [
    "eCar.make"
   ]
  },
  {
   "cell_type": "code",
   "execution_count": 90,
   "metadata": {},
   "outputs": [
    {
     "name": "stdout",
     "output_type": "stream",
     "text": [
      "the car has travelled 0 miles\n"
     ]
    }
   ],
   "source": [
    "eCar.read_odometer()"
   ]
  },
  {
   "cell_type": "code",
   "execution_count": 91,
   "metadata": {},
   "outputs": [],
   "source": [
    "eCar.increase_odometer(15)"
   ]
  },
  {
   "cell_type": "code",
   "execution_count": 92,
   "metadata": {},
   "outputs": [
    {
     "name": "stdout",
     "output_type": "stream",
     "text": [
      "the car has travelled 15 miles\n"
     ]
    }
   ],
   "source": [
    "eCar.read_odometer()"
   ]
  },
  {
   "cell_type": "code",
   "execution_count": 93,
   "metadata": {},
   "outputs": [],
   "source": [
    "class ElectricCar(Car):\n",
    "    def __init__(self, make, model, year):\n",
    "        super().__init__(make, model, year)\n",
    "        self.batterySize =70\n",
    "        \n",
    "    def describeBattery(self):\n",
    "        print(f'The battery size of the eCar is {self.batterySize}')"
   ]
  },
  {
   "cell_type": "code",
   "execution_count": 94,
   "metadata": {},
   "outputs": [],
   "source": [
    "elecCar= ElectricCar('ABC ElectricCar', 'NewCar', '2019')"
   ]
  },
  {
   "cell_type": "code",
   "execution_count": 95,
   "metadata": {},
   "outputs": [
    {
     "data": {
      "text/plain": [
       "70"
      ]
     },
     "execution_count": 95,
     "metadata": {},
     "output_type": "execute_result"
    }
   ],
   "source": [
    "elecCar.batterySize"
   ]
  },
  {
   "cell_type": "code",
   "execution_count": 96,
   "metadata": {},
   "outputs": [
    {
     "name": "stdout",
     "output_type": "stream",
     "text": [
      "The battery size of the eCar is 70\n"
     ]
    }
   ],
   "source": [
    "elecCar.describeBattery()"
   ]
  },
  {
   "cell_type": "code",
   "execution_count": 97,
   "metadata": {},
   "outputs": [],
   "source": [
    "class ElectricCar(Car):\n",
    "    def __init__(self, make, model, year):\n",
    "        super().__init__(make, model, year)\n",
    "        self.batterySize =70\n",
    "        \n",
    "    def getBatterySize(self):\n",
    "        print(f'The battery size of the eCar is {self.batterySize}')\n",
    "        \n",
    "    def setBatterySize(self, battery):\n",
    "        self.batterySize = battery\n",
    "        \n",
    "    def getFuelTankSize(self):\n",
    "        print('Electric Car does not have fuel tank')\n",
    "        #this function overwirte the main function in (Car class)"
   ]
  },
  {
   "cell_type": "code",
   "execution_count": 98,
   "metadata": {},
   "outputs": [],
   "source": [
    "EC= ElectricCar('xyz ElectricCar', 'Newone', '2019')"
   ]
  },
  {
   "cell_type": "code",
   "execution_count": 99,
   "metadata": {},
   "outputs": [
    {
     "name": "stdout",
     "output_type": "stream",
     "text": [
      "The battery size of the eCar is 70\n"
     ]
    }
   ],
   "source": [
    "EC.getBatterySize()"
   ]
  },
  {
   "cell_type": "code",
   "execution_count": 100,
   "metadata": {},
   "outputs": [],
   "source": [
    "EC.setBatterySize(200)"
   ]
  },
  {
   "cell_type": "code",
   "execution_count": 101,
   "metadata": {},
   "outputs": [
    {
     "name": "stdout",
     "output_type": "stream",
     "text": [
      "The battery size of the eCar is 200\n"
     ]
    }
   ],
   "source": [
    "EC.getBatterySize()"
   ]
  },
  {
   "cell_type": "code",
   "execution_count": 102,
   "metadata": {},
   "outputs": [
    {
     "name": "stdout",
     "output_type": "stream",
     "text": [
      "Electric Car does not have fuel tank\n"
     ]
    }
   ],
   "source": [
    "EC.getFuelTankSize() "
   ]
  },
  {
   "cell_type": "markdown",
   "metadata": {},
   "source": [
    "# Instance as Atribute"
   ]
  },
  {
   "cell_type": "code",
   "execution_count": 132,
   "metadata": {},
   "outputs": [],
   "source": [
    "class Battery():\n",
    "    def __init__(self, manufacturer, watt, date):\n",
    "        self.manufacturer = manufacturer\n",
    "        self.watt =watt\n",
    "        self.date =date\n",
    "        self.batterySize = 100 #default variable\n",
    "    #put all functions of battert defined in above class in this class\n",
    "    \n",
    "    def getBatterySize(self):\n",
    "        print(f'The battery size of the eCar is {self.batterySize}')\n",
    "        \n",
    "    def setBatterySize(self, battery):\n",
    "        self.batterySize = battery"
   ]
  },
  {
   "cell_type": "code",
   "execution_count": 133,
   "metadata": {},
   "outputs": [],
   "source": [
    "class Engine():\n",
    "    def __init__(self, CC, Transmission):\n",
    "        self.CC = CC\n",
    "        self.Transmission = Transmission\n",
    "        \n",
    "    def getEngineDetails(self):\n",
    "        print(f'Engine CC is: {self.CC} and Transmission is:  {self.Transmission}')"
   ]
  },
  {
   "cell_type": "code",
   "execution_count": 134,
   "metadata": {},
   "outputs": [],
   "source": [
    "e1=Engine(3000, 6)"
   ]
  },
  {
   "cell_type": "code",
   "execution_count": 135,
   "metadata": {},
   "outputs": [
    {
     "name": "stdout",
     "output_type": "stream",
     "text": [
      "3000\n",
      "6\n"
     ]
    }
   ],
   "source": [
    "print(e1.CC)\n",
    "print(e1.Transmission)"
   ]
  },
  {
   "cell_type": "code",
   "execution_count": 136,
   "metadata": {},
   "outputs": [
    {
     "name": "stdout",
     "output_type": "stream",
     "text": [
      "Engine CC is: 3000 and Transmission is:  6\n"
     ]
    }
   ],
   "source": [
    "e1.getEngineDetails()"
   ]
  },
  {
   "cell_type": "code",
   "execution_count": 137,
   "metadata": {},
   "outputs": [],
   "source": [
    "class ElectricCar(Car):\n",
    "    def __init__(self, make, model, year):\n",
    "        super().__init__(make, model, year)\n",
    "        self.battery = Battery('Osaka', 300, 2019)\n",
    "        self.engine = Engine (2300, 5)\n",
    "        \n",
    "    def getFuelTankSize(self):\n",
    "        print('Electric Car does not have fuel tank')"
   ]
  },
  {
   "cell_type": "code",
   "execution_count": 138,
   "metadata": {},
   "outputs": [],
   "source": [
    "eCar = ElectricCar('ABC', 'xyz', 2019)\n"
   ]
  },
  {
   "cell_type": "code",
   "execution_count": 139,
   "metadata": {},
   "outputs": [
    {
     "data": {
      "text/plain": [
       "'Osaka'"
      ]
     },
     "execution_count": 139,
     "metadata": {},
     "output_type": "execute_result"
    }
   ],
   "source": [
    "eCar.battery.manufacturer"
   ]
  },
  {
   "cell_type": "code",
   "execution_count": 182,
   "metadata": {},
   "outputs": [
    {
     "name": "stdout",
     "output_type": "stream",
     "text": [
      "Engine CC is: 2300 and Transmission is:  5\n"
     ]
    }
   ],
   "source": [
    "eCar.engine.getEngineDetails()"
   ]
  },
  {
   "cell_type": "code",
   "execution_count": 143,
   "metadata": {},
   "outputs": [
    {
     "name": "stdout",
     "output_type": "stream",
     "text": [
      "the engine cc is 2300\n"
     ]
    }
   ],
   "source": [
    "print(f'the engine cc is {eCar.engine.CC}')"
   ]
  },
  {
   "cell_type": "markdown",
   "metadata": {},
   "source": [
    "# Example Restaurant (9 -1)"
   ]
  },
  {
   "cell_type": "code",
   "execution_count": 113,
   "metadata": {},
   "outputs": [],
   "source": [
    "class Restaurant():\n",
    "    def __init__(self, restaurantName, cuisineType):\n",
    "        self.restaurantName = restaurantName\n",
    "        self.cuisineType = cuisineType\n",
    "        \n",
    "    def describeRestaurant(self):\n",
    "        print(f'The Name of restaurant is {self.restaurantName}')\n",
    "        print(f'The Cuisine Type is {self.cuisineType}')\n",
    "        \n",
    "    def openRestaurant(self):\n",
    "        print(f'{self.restaurantName} is open today')\n",
    "        "
   ]
  },
  {
   "cell_type": "code",
   "execution_count": 146,
   "metadata": {},
   "outputs": [],
   "source": [
    "r1 = Restaurant('China Town', 'Chinese')"
   ]
  },
  {
   "cell_type": "code",
   "execution_count": 147,
   "metadata": {},
   "outputs": [
    {
     "name": "stdout",
     "output_type": "stream",
     "text": [
      "China Town\n",
      "Chinese\n"
     ]
    }
   ],
   "source": [
    "print(r1.restaurantName)\n",
    "print(r1.cuisineType)"
   ]
  },
  {
   "cell_type": "code",
   "execution_count": 148,
   "metadata": {},
   "outputs": [
    {
     "name": "stdout",
     "output_type": "stream",
     "text": [
      "The Name of restaurant is China Town\n",
      "The Cuisine Type is Chinese\n",
      "China Town is open today\n"
     ]
    }
   ],
   "source": [
    "r1.describeRestaurant()\n",
    "r1.openRestaurant()"
   ]
  },
  {
   "cell_type": "code",
   "execution_count": 149,
   "metadata": {},
   "outputs": [],
   "source": [
    "r2 = Restaurant('KFC', 'Japanese')\n",
    "r3 = Restaurant('Dhaba', 'Tea')\n",
    "r4 = Restaurant('Alpine', 'Icecream Parlor')"
   ]
  },
  {
   "cell_type": "code",
   "execution_count": 151,
   "metadata": {},
   "outputs": [
    {
     "name": "stdout",
     "output_type": "stream",
     "text": [
      "The Name of restaurant is China Town\n",
      "The Cuisine Type is Chinese\n",
      "The Name of restaurant is KFC\n",
      "The Cuisine Type is Japanese\n",
      "The Name of restaurant is Dhaba\n",
      "The Cuisine Type is Tea\n",
      "The Name of restaurant is Alpine\n",
      "The Cuisine Type is Icecream Parlor\n"
     ]
    }
   ],
   "source": [
    "r1.describeRestaurant()\n",
    "r2.describeRestaurant()\n",
    "r3.describeRestaurant()\n",
    "r4.describeRestaurant()\n"
   ]
  },
  {
   "cell_type": "markdown",
   "metadata": {},
   "source": [
    "# # Example Restaurant (9 -4)"
   ]
  },
  {
   "cell_type": "code",
   "execution_count": 191,
   "metadata": {},
   "outputs": [],
   "source": [
    "class Restaurant():\n",
    "    def __init__(self, restaurantName, cuisineType):\n",
    "        self.restaurantName = restaurantName\n",
    "        self.cuisineType = cuisineType\n",
    "        self.numberServed = 0\n",
    "        \n",
    "    def describeRestaurant(self):\n",
    "        print(f'The Name of restaurant is {self.restaurantName}')\n",
    "        print(f'The Cuisine Type is {self.cuisineType}')\n",
    "        \n",
    "    def openRestaurant(self):\n",
    "        print(f'{self.restaurantName} is open today')\n",
    "        \n",
    "    def setNumberServed(self, number):\n",
    "        self.numbersServed = number\n",
    "        \n",
    "    def getNumberServed (self):\n",
    "        print(f'{self.numbersServed} customers are served')\n",
    "        \n",
    "    def increament_number_served(self, number):\n",
    "        self.numbersServed += number\n",
    "        \n",
    "    \n",
    "        \n",
    "        "
   ]
  },
  {
   "cell_type": "code",
   "execution_count": 220,
   "metadata": {},
   "outputs": [],
   "source": [
    "restaurant = Restaurant('PizzaPlus', 'Pizza')"
   ]
  },
  {
   "cell_type": "code",
   "execution_count": 224,
   "metadata": {},
   "outputs": [
    {
     "data": {
      "text/plain": [
       "0"
      ]
     },
     "execution_count": 224,
     "metadata": {},
     "output_type": "execute_result"
    }
   ],
   "source": [
    "restaurant.numberServed"
   ]
  },
  {
   "cell_type": "code",
   "execution_count": 225,
   "metadata": {},
   "outputs": [],
   "source": [
    "restaurant.numbersServed= 10"
   ]
  },
  {
   "cell_type": "code",
   "execution_count": 226,
   "metadata": {},
   "outputs": [
    {
     "data": {
      "text/plain": [
       "0"
      ]
     },
     "execution_count": 226,
     "metadata": {},
     "output_type": "execute_result"
    }
   ],
   "source": [
    "restaurant.setNumberServed(15)\n",
    "restaurant.numberServed"
   ]
  },
  {
   "cell_type": "code",
   "execution_count": 228,
   "metadata": {},
   "outputs": [
    {
     "data": {
      "text/plain": [
       "45"
      ]
     },
     "execution_count": 228,
     "metadata": {},
     "output_type": "execute_result"
    }
   ],
   "source": [
    "restaurant.increament_number_served(15)\n",
    "restaurant.numbersServed"
   ]
  },
  {
   "cell_type": "code",
   "execution_count": 229,
   "metadata": {},
   "outputs": [
    {
     "name": "stdout",
     "output_type": "stream",
     "text": [
      "45 customers are served\n"
     ]
    }
   ],
   "source": [
    "restaurant.getNumberServed()"
   ]
  },
  {
   "cell_type": "code",
   "execution_count": null,
   "metadata": {},
   "outputs": [],
   "source": []
  }
 ],
 "metadata": {
  "kernelspec": {
   "display_name": "Python 3",
   "language": "python",
   "name": "python3"
  },
  "language_info": {
   "codemirror_mode": {
    "name": "ipython",
    "version": 3
   },
   "file_extension": ".py",
   "mimetype": "text/x-python",
   "name": "python",
   "nbconvert_exporter": "python",
   "pygments_lexer": "ipython3",
   "version": "3.7.3"
  }
 },
 "nbformat": 4,
 "nbformat_minor": 2
}
