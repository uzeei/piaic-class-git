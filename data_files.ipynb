{
 "cells": [
  {
   "cell_type": "code",
   "execution_count": 40,
   "metadata": {},
   "outputs": [],
   "source": [
    "x ='this is text message.'\n",
    "with open ('ac.txt','w') as file:\n",
    "    file.write(x)"
   ]
  },
  {
   "cell_type": "code",
   "execution_count": 41,
   "metadata": {},
   "outputs": [
    {
     "name": "stdout",
     "output_type": "stream",
     "text": [
      "this is text message.\n"
     ]
    }
   ],
   "source": [
    "with open('ac.txt', 'r') as file:\n",
    "    content= file.read()\n",
    "print(content)"
   ]
  },
  {
   "cell_type": "code",
   "execution_count": 47,
   "metadata": {},
   "outputs": [],
   "source": [
    "x ='this is sample text.'\n",
    "with open ('ac.txt','a') as file:\n",
    "    file.write(x+'\\n')"
   ]
  },
  {
   "cell_type": "code",
   "execution_count": 48,
   "metadata": {},
   "outputs": [
    {
     "name": "stdout",
     "output_type": "stream",
     "text": [
      "this is text message.this is sample text.\n",
      "this is sample text.\n",
      "this is sample text.\n",
      "\n"
     ]
    }
   ],
   "source": [
    "with open('ac.txt', 'r') as file:\n",
    "    content= file.read()\n",
    "print(content)"
   ]
  },
  {
   "cell_type": "code",
   "execution_count": 55,
   "metadata": {},
   "outputs": [
    {
     "ename": "SyntaxError",
     "evalue": "invalid syntax (<ipython-input-55-47241f148221>, line 6)",
     "output_type": "error",
     "traceback": [
      "\u001b[1;36m  File \u001b[1;32m\"<ipython-input-55-47241f148221>\"\u001b[1;36m, line \u001b[1;32m6\u001b[0m\n\u001b[1;33m    except Exception as e:\u001b[0m\n\u001b[1;37m         ^\u001b[0m\n\u001b[1;31mSyntaxError\u001b[0m\u001b[1;31m:\u001b[0m invalid syntax\n"
     ]
    }
   ],
   "source": [
    "with open ('as.txt', \"r+\") as file:\n",
    "    file.write('This is generated text')\n",
    "    file.seek(0)\n",
    "    print(file.read())\n",
    "    \n",
    "except Exception as e:\n",
    "    with open('f12.txt','w') as file:\n",
    "        \n",
    "    "
   ]
  },
  {
   "cell_type": "code",
   "execution_count": null,
   "metadata": {},
   "outputs": [],
   "source": []
  }
 ],
 "metadata": {
  "kernelspec": {
   "display_name": "Python 3",
   "language": "python",
   "name": "python3"
  },
  "language_info": {
   "codemirror_mode": {
    "name": "ipython",
    "version": 3
   },
   "file_extension": ".py",
   "mimetype": "text/x-python",
   "name": "python",
   "nbconvert_exporter": "python",
   "pygments_lexer": "ipython3",
   "version": "3.7.3"
  }
 },
 "nbformat": 4,
 "nbformat_minor": 2
}
