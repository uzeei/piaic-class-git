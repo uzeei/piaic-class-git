{
 "cells": [
  {
   "cell_type": "markdown",
   "metadata": {},
   "source": [
    "# CSV File"
   ]
  },
  {
   "cell_type": "code",
   "execution_count": 1,
   "metadata": {},
   "outputs": [],
   "source": [
    "import csv"
   ]
  },
  {
   "cell_type": "code",
   "execution_count": 6,
   "metadata": {},
   "outputs": [
    {
     "name": "stdout",
     "output_type": "stream",
     "text": [
      "<_csv.reader object at 0x0000017D18D64180>\n"
     ]
    }
   ],
   "source": [
    "with open('whatever.csv') as f:\n",
    "    x = csv.reader(f)\n",
    "    print(x)"
   ]
  },
  {
   "cell_type": "code",
   "execution_count": 7,
   "metadata": {},
   "outputs": [
    {
     "name": "stdout",
     "output_type": "stream",
     "text": [
      "[['Year', 'Event', 'Winner'], ['1995', 'Best-Kept Lawn', 'None'], ['1999', 'Gobstones', 'Welch National'], ['2006', 'World Cup', 'Burkina Faso'], ['2011', 'Butter Cup', 'France'], ['2012', 'Coffee Cup', 'Brazil']]\n"
     ]
    }
   ],
   "source": [
    "with open('whatever.csv') as f:\n",
    "    x = csv.reader(f)\n",
    "    y = []\n",
    "    for i in x:\n",
    "        y.append(i)\n",
    "print(y)"
   ]
  },
  {
   "cell_type": "code",
   "execution_count": 4,
   "metadata": {},
   "outputs": [
    {
     "name": "stdout",
     "output_type": "stream",
     "text": [
      "[['Year', 'Event', 'Winner'], ['1995', 'Best-Kept Lawn', 'None'], ['1999', 'Gobstones', 'Welch National'], ['2006', 'World Cup', 'Burkina Faso']]\n"
     ]
    }
   ],
   "source": [
    "with open('Untitled.csv') as f:\n",
    "    x = csv.reader(f)\n",
    "    y = []\n",
    "    for i in x:\n",
    "        y.append(i)\n",
    "print(y)"
   ]
  },
  {
   "cell_type": "code",
   "execution_count": 4,
   "metadata": {},
   "outputs": [],
   "source": [
    "with open(\"whatever.csv\", \"w\", newline=\"\") as f:\n",
    "    data_handler = csv.writer(f, delimiter=\",\")\n",
    "    data_handler.writerow([\"Year\", \"Event\",\"Winner\"])\n",
    "    data_handler.writerow([\"1995\", \"Best-Kept Lawn\",\"None\"])\n",
    "    data_handler.writerow([\"1999\", \"Gobstones\",\"Welch National\"])"
   ]
  },
  {
   "cell_type": "code",
   "execution_count": 5,
   "metadata": {},
   "outputs": [],
   "source": [
    "with open(\"whatever.csv\", \"a\", newline=\"\") as f:\n",
    "    data_handler = csv.writer(f, delimiter=\",\")\n",
    "    data_handler.writerow([\"2006\", \"World Cup\",\"Burkina Faso\"])\n",
    "    data_handler.writerow([\"2011\", \"Butter Cup\",\"France\"])\n",
    "    data_handler.writerow([\"2012\", \"Coffee Cup\",\"Brazil\"])"
   ]
  },
  {
   "cell_type": "markdown",
   "metadata": {},
   "source": [
    "# JSON File"
   ]
  },
  {
   "cell_type": "code",
   "execution_count": 8,
   "metadata": {},
   "outputs": [],
   "source": [
    "import json"
   ]
  },
  {
   "cell_type": "code",
   "execution_count": 9,
   "metadata": {},
   "outputs": [],
   "source": [
    "alphabet_letters = [\"a\", \"b\", \"c\"]\n",
    "\n",
    "with open(\"alphabet_list.json\", \"w\") as f:\n",
    "    json.dump(alphabet_letters, f)"
   ]
  },
  {
   "cell_type": "code",
   "execution_count": 10,
   "metadata": {},
   "outputs": [
    {
     "name": "stdout",
     "output_type": "stream",
     "text": [
      "['a', 'b', 'c']\n",
      "a\n",
      "b\n",
      "c\n"
     ]
    }
   ],
   "source": [
    "with open(\"alphabet_list.json\") as f:\n",
    "    x = json.load(f)\n",
    "    print(x)\n",
    "    for i in x:\n",
    "        print(i)"
   ]
  },
  {
   "cell_type": "code",
   "execution_count": 11,
   "metadata": {},
   "outputs": [],
   "source": [
    "customer_29876 = {\"first name\": \"David\",\n",
    "                  \"last name\": \"Elliott\",\n",
    "                  \"address\": \"4803 Wellesley St.\" }"
   ]
  },
  {
   "cell_type": "code",
   "execution_count": 12,
   "metadata": {},
   "outputs": [],
   "source": [
    "with open('abc.json', 'w') as f:\n",
    "    json.dump(customer_29876, f)"
   ]
  },
  {
   "cell_type": "code",
   "execution_count": 15,
   "metadata": {},
   "outputs": [
    {
     "name": "stdout",
     "output_type": "stream",
     "text": [
      "{'first name': 'David', 'last name': 'Elliott', 'address': '4803 Wellesley St.'}\n",
      "first name\n",
      "last name\n",
      "address\n"
     ]
    }
   ],
   "source": [
    "with open(\"abc.json\") as f:\n",
    "    x = json.load(f)\n",
    "    print(x)\n",
    "    for i in x:\n",
    "        print(i)"
   ]
  },
  {
   "cell_type": "code",
   "execution_count": 26,
   "metadata": {},
   "outputs": [
    {
     "name": "stdout",
     "output_type": "stream",
     "text": [
      "Enter no to quitasd\n",
      "Enter name: uzair\n",
      "Enter age:18\n",
      "Enter address:asdsadas\n",
      "Data posted\n",
      "Enter no to quitno\n",
      "Data posted\n"
     ]
    }
   ],
   "source": [
    "import json\n",
    "flag =True\n",
    "while flag:\n",
    "    user  =input(\"Enter no to quit\")\n",
    "    if user !=\"no\":\n",
    "        data = {\"firstname\" : input(\"Enter name: \"), \n",
    "                \"age\" : int(input(\"Enter age:\")), \n",
    "                \"Address\": input(\"Enter address:\")}\n",
    "    else: \n",
    "        flag =False\n",
    "    with open(\"data.json\",\"a\") as f:\n",
    "        json.dump(data, f)\n",
    "    print(\"Data posted\")"
   ]
  },
  {
   "cell_type": "code",
   "execution_count": null,
   "metadata": {},
   "outputs": [],
   "source": []
  },
  {
   "cell_type": "markdown",
   "metadata": {},
   "source": [
    "# List Comprehension"
   ]
  },
  {
   "cell_type": "code",
   "execution_count": 27,
   "metadata": {},
   "outputs": [],
   "source": [
    "numb = [1,2,3,4]\n",
    "nList = []\n",
    "\n",
    "for i in numb:\n",
    "    nList.append(i ** 2)"
   ]
  },
  {
   "cell_type": "code",
   "execution_count": 28,
   "metadata": {},
   "outputs": [
    {
     "name": "stdout",
     "output_type": "stream",
     "text": [
      "[1, 4, 9, 16]\n"
     ]
    }
   ],
   "source": [
    "print(nList)"
   ]
  },
  {
   "cell_type": "code",
   "execution_count": 29,
   "metadata": {},
   "outputs": [],
   "source": [
    "new_list = [i**2 for i in [1,2,3,4]]"
   ]
  },
  {
   "cell_type": "code",
   "execution_count": 30,
   "metadata": {},
   "outputs": [
    {
     "name": "stdout",
     "output_type": "stream",
     "text": [
      "[1, 4, 9, 16]\n"
     ]
    }
   ],
   "source": [
    "print(new_list)"
   ]
  },
  {
   "cell_type": "code",
   "execution_count": 33,
   "metadata": {},
   "outputs": [],
   "source": [
    "import math"
   ]
  },
  {
   "cell_type": "code",
   "execution_count": 32,
   "metadata": {},
   "outputs": [
    {
     "ename": "ModuleNotFoundError",
     "evalue": "No module named 'myMath'",
     "output_type": "error",
     "traceback": [
      "\u001b[1;31m---------------------------------------------------------------------------\u001b[0m",
      "\u001b[1;31mModuleNotFoundError\u001b[0m                       Traceback (most recent call last)",
      "\u001b[1;32m<ipython-input-32-1d9e375458d5>\u001b[0m in \u001b[0;36m<module>\u001b[1;34m\u001b[0m\n\u001b[1;32m----> 1\u001b[1;33m \u001b[1;32mimport\u001b[0m \u001b[0mmyMath\u001b[0m\u001b[1;33m\u001b[0m\u001b[1;33m\u001b[0m\u001b[0m\n\u001b[0m",
      "\u001b[1;31mModuleNotFoundError\u001b[0m: No module named 'myMath'"
     ]
    }
   ],
   "source": [
    "import myMath"
   ]
  },
  {
   "cell_type": "code",
   "execution_count": 3,
   "metadata": {},
   "outputs": [
    {
     "name": "stdout",
     "output_type": "stream",
     "text": [
      "14\n"
     ]
    }
   ],
   "source": [
    "print(myMath.add(2,5))"
   ]
  },
  {
   "cell_type": "code",
   "execution_count": null,
   "metadata": {},
   "outputs": [],
   "source": []
  }
 ],
 "metadata": {
  "kernelspec": {
   "display_name": "Python 3",
   "language": "python",
   "name": "python3"
  },
  "language_info": {
   "codemirror_mode": {
    "name": "ipython",
    "version": 3
   },
   "file_extension": ".py",
   "mimetype": "text/x-python",
   "name": "python",
   "nbconvert_exporter": "python",
   "pygments_lexer": "ipython3",
   "version": "3.7.3"
  }
 },
 "nbformat": 4,
 "nbformat_minor": 2
}
