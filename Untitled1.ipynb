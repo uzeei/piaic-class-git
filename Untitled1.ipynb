{
 "cells": [
  {
   "cell_type": "code",
   "execution_count": 1,
   "metadata": {},
   "outputs": [
    {
     "data": {
      "text/plain": [
       "1234"
      ]
     },
     "execution_count": 1,
     "metadata": {},
     "output_type": "execute_result"
    }
   ],
   "source": [
    "x=1234\n",
    "x"
   ]
  },
  {
   "cell_type": "code",
   "execution_count": null,
   "metadata": {},
   "outputs": [],
   "source": []
  },
  {
   "cell_type": "code",
   "execution_count": 7,
   "metadata": {},
   "outputs": [
    {
     "data": {
      "text/plain": [
       "1245"
      ]
     },
     "execution_count": 7,
     "metadata": {},
     "output_type": "execute_result"
    }
   ],
   "source": [
    "x += 1\n",
    "x"
   ]
  },
  {
   "cell_type": "markdown",
   "metadata": {},
   "source": [
    "# if statement"
   ]
  },
  {
   "cell_type": "code",
   "execution_count": 11,
   "metadata": {},
   "outputs": [
    {
     "data": {
      "text/plain": [
       "False"
      ]
     },
     "execution_count": 11,
     "metadata": {},
     "output_type": "execute_result"
    }
   ],
   "source": [
    "a=2\n",
    "b=3\n",
    "a==b"
   ]
  },
  {
   "cell_type": "code",
   "execution_count": 20,
   "metadata": {},
   "outputs": [
    {
     "name": "stdout",
     "output_type": "stream",
     "text": [
      "enter a number: 4\n",
      "enter a number: 5\n",
      "else block is executing\n",
      "5 is greater then 4\n"
     ]
    }
   ],
   "source": [
    "a=(input('enter a number: '))\n",
    "b=(input('enter a number: '))\n",
    "if a>b:\n",
    "    \n",
    "    #indentation\n",
    "    print('else block is executing')\n",
    "    print(f'{a} is greater then {b}')\n",
    "    print(f'{a} is greater then {b}')\n",
    "    print(f'{a} is greater then {b}')\n",
    "else:\n",
    "    print('else block is executing')\n",
    "    print(f'{b} is greater then {a}')\n"
   ]
  },
  {
   "cell_type": "markdown",
   "metadata": {},
   "source": [
    "# multiple if's\n",
    "Age is more then 20 years and have tickets too.\n",
    "\n"
   ]
  },
  {
   "cell_type": "code",
   "execution_count": 33,
   "metadata": {},
   "outputs": [
    {
     "name": "stdout",
     "output_type": "stream",
     "text": [
      "enter age: 18\n",
      "your age is valid\n",
      "enter the ticekt status: YES\n",
      "your ticket is valid\n",
      "You are allowed\n"
     ]
    }
   ],
   "source": [
    "age= int(input('enter age: '))\n",
    "if age>=18:\n",
    "    print('your age is valid')\n",
    "    ticket= input('enter the ticekt status: ').lower()\n",
    "    if ticket == 'yes':\n",
    "        print('your ticket is valid')\n",
    "        print('You are allowed')\n",
    "    else:\n",
    "        print('please but ticekt')\n",
    "else: \n",
    "    print('you are not allowed')\n",
    "\n"
   ]
  },
  {
   "cell_type": "code",
   "execution_count": 32,
   "metadata": {},
   "outputs": [
    {
     "name": "stdout",
     "output_type": "stream",
     "text": [
      "NIC is available or not: yes\n",
      "you are allowed to enter\n",
      "check name: no\n",
      "your name is not in list\n"
     ]
    }
   ],
   "source": [
    "NIC= input('NIC is available or not: ')\n",
    "if NIC == 'yes':\n",
    "\n",
    "    print('you are allowed to enter')\n",
    "    list_name = input('check name: ')\n",
    "    if list_name == 'yes':\n",
    "        print('you allowed to vote')\n",
    "    else:\n",
    "        print('your name is not in list')\n",
    "        \n",
    "else:\n",
    "        print('please bring NIC')\n",
    "        "
   ]
  },
  {
   "cell_type": "code",
   "execution_count": 37,
   "metadata": {},
   "outputs": [
    {
     "name": "stdout",
     "output_type": "stream",
     "text": [
      "enter age: 18\n",
      "enter ticket status:no\n",
      "you are not allowed\n"
     ]
    }
   ],
   "source": [
    "age=int(input('enter age: '))\n",
    "ticket= input('enter ticket status:' )\n",
    "if age>=18 and ticket == 'yes':\n",
    "    print('you are allowed')\n",
    "else:\n",
    "    print('you are not allowed')\n",
    "              "
   ]
  },
  {
   "cell_type": "code",
   "execution_count": 53,
   "metadata": {},
   "outputs": [
    {
     "name": "stdout",
     "output_type": "stream",
     "text": [
      "enter first number: 1\n",
      "enter second number: 1\n",
      "1 is equal to 1\n"
     ]
    }
   ],
   "source": [
    "a= int(input('enter first number: '))\n",
    "b= int(input('enter second number: '))\n",
    "\n",
    "if a==b:\n",
    "    print (f'{a} is equal to {b}')\n",
    "elif a<b:\n",
    "    print (f'{a} is less then  {b}')\n",
    "\n",
    "    \n",
    "else:\n",
    "    print('wapis check kro')\n",
    "    "
   ]
  },
  {
   "cell_type": "code",
   "execution_count": 58,
   "metadata": {},
   "outputs": [
    {
     "name": "stdout",
     "output_type": "stream",
     "text": [
      "enter first number: 2\n",
      "enter second number: 1\n",
      "all is well\n"
     ]
    }
   ],
   "source": [
    "a= int(input('enter first number: '))\n",
    "b= int(input('enter second number: '))\n",
    "\n",
    "if a==b or a>b:\n",
    "    print('all is well')\n",
    "    \n",
    "else:\n",
    "    print('try again')"
   ]
  },
  {
   "cell_type": "code",
   "execution_count": 73,
   "metadata": {},
   "outputs": [
    {
     "name": "stdout",
     "output_type": "stream",
     "text": [
      "enter first number: yes\n",
      "enter second number: yes\n",
      "ap ja skty hain\n"
     ]
    },
    {
     "data": {
      "text/plain": [
       "'hasdjlasjdlasdjaslkd\\naskndlasndasd;asdj;asjd;\\nsdkasjkdjalsdlasdlas'"
      ]
     },
     "execution_count": 73,
     "metadata": {},
     "output_type": "execute_result"
    }
   ],
   "source": [
    "Docs= (input('enter first number: '))\n",
    "money= (input('enter second number: '))\n",
    "\n",
    "if Docs== 'yes' or money =='yes':\n",
    "    print('ap ja skty hain')\n",
    "    \n",
    "    \n",
    "else:\n",
    "    print('Gari me bethao')\n",
    "\n"
   ]
  },
  {
   "cell_type": "code",
   "execution_count": null,
   "metadata": {},
   "outputs": [],
   "source": []
  }
 ],
 "metadata": {
  "kernelspec": {
   "display_name": "Python 3",
   "language": "python",
   "name": "python3"
  },
  "language_info": {
   "codemirror_mode": {
    "name": "ipython",
    "version": 3
   },
   "file_extension": ".py",
   "mimetype": "text/x-python",
   "name": "python",
   "nbconvert_exporter": "python",
   "pygments_lexer": "ipython3",
   "version": "3.7.3"
  }
 },
 "nbformat": 4,
 "nbformat_minor": 2
}
