{
 "cells": [
  {
   "cell_type": "code",
   "execution_count": 28,
   "metadata": {},
   "outputs": [],
   "source": [
    "To_do=['bath', 'change', 'breakfast','dusting', 'carwash','go to university', 'take class', 'go to home', 'dinner', 'sleep']\n",
    "completed_task=[]"
   ]
  },
  {
   "cell_type": "code",
   "execution_count": 37,
   "metadata": {},
   "outputs": [
    {
     "name": "stdout",
     "output_type": "stream",
     "text": [
      "enter task: go to home\n",
      "This task is completed\n",
      "['dusting', 'go to university', 'breakfast', 'take class', 'go to home']\n",
      "['bath', 'change', 'carwash', 'dinner', 'sleep']\n"
     ]
    }
   ],
   "source": [
    "user=input('enter task: ')\n",
    "if user in To_do:\n",
    "    completed_task.append(user)\n",
    "    task=To_do.index(user)\n",
    "    To_do.pop(task)\n",
    "    print('This task is completed')\n",
    "elif user not in To_do:\n",
    "    print('This task is not in list')\n",
    "else:\n",
    "    print('All task are completed')\n",
    "print(completed_task)\n",
    "print(To_do)"
   ]
  },
  {
   "cell_type": "code",
   "execution_count": null,
   "metadata": {},
   "outputs": [],
   "source": []
  }
 ],
 "metadata": {
  "kernelspec": {
   "display_name": "Python 3",
   "language": "python",
   "name": "python3"
  }
 },
 "nbformat": 4,
 "nbformat_minor": 2
}
